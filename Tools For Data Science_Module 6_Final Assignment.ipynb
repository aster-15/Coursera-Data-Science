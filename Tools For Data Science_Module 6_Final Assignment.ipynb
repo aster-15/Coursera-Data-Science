{
 "cells": [
  {
   "cell_type": "markdown",
   "metadata": {},
   "source": [
    "#### Exercise 2\n",
    "# Tools For Data Science_Module 6_Final Assignment\n"
   ]
  },
  {
   "cell_type": "markdown",
   "metadata": {},
   "source": [
    "### This notebook contains markdown and code cells which perform various tasks as described in the final assignment of Module 6 in the Tools For Data Science course.\n"
   ]
  },
  {
   "cell_type": "markdown",
   "metadata": {},
   "source": [
    "#### Exercise 4\n",
    "Some of the popular languages used by Data Scientists are:\n",
    "1. Python\n",
    "2. R\n",
    "3. SQL\n",
    "4. Java\n",
    "5. Julia\n",
    "6. Scala\n",
    "7. C/C++\n",
    "8. JavaScript"
   ]
  },
  {
   "cell_type": "markdown",
   "metadata": {},
   "source": [
    "#### Exercise 5\n",
    "Some of the commonly used libraries used by Data Scientists include:\n",
    "1. TensorFlow\n",
    "2. NumPy\n",
    "3. SciPy\n",
    "4. Pandas\n",
    "5. Matplotlib\n",
    "6. Keras\n",
    "7. SciKit-Learn\n",
    "8. PyTorch\n",
    "9. Scrapy\n",
    "10. Theano\n",
    "11. NuPIC\n",
    "12. Pipenv"
   ]
  },
  {
   "cell_type": "markdown",
   "metadata": {},
   "source": [
    "#### Exercise 6\n",
    "Data Science Tools:\n",
    "\n",
    "<table style=\"width:50%\" align=\"left\">\n",
    "  <tr>\n",
    "    <th>Data Science Tools</th>\n",
    "    <th></th>\n",
    "    <th></th>\n",
    "  </tr>\n",
    "  <tr>\n",
    "    <td>SAS (Statistical Analysis System)</td>\n",
    "    <td></td>\n",
    "    <td></td>\n",
    "  </tr>\n",
    "  <tr>\n",
    "    <td>Apache Spark</td>\n",
    "    <td></td>\n",
    "    <td></td>\n",
    "  </tr>\n",
    "  <tr>\n",
    "    <td>Apache Hadoop</td>\n",
    "    <td></td>\n",
    "    <td></td>\n",
    "  </tr>\n",
    "    <tr>\n",
    "    <td>Tableau</td>\n",
    "    <td></td>\n",
    "    <td></td>\n",
    "  </tr>\n",
    "    <tr>\n",
    "    <td>BigML</td>\n",
    "    <td></td>\n",
    "    <td></td>\n",
    "  </tr>\n",
    "    <tr>\n",
    "    <td>TensorFlow</td>\n",
    "    <td></td>\n",
    "    <td></td>\n",
    "  </tr>\n",
    "</table>"
   ]
  },
  {
   "cell_type": "markdown",
   "metadata": {},
   "source": [
    "#### Exercise 7\n",
    "\n",
    "Some examples of arithmetic expressions:\n",
    "- 2 * 5 = 10\n",
    "- 3 + 4 = 7\n",
    "- (2 + 3) * 8 = 40\n",
    "- (30 - 6) / 4 = 6"
   ]
  },
  {
   "cell_type": "code",
   "execution_count": 10,
   "metadata": {},
   "outputs": [
    {
     "name": "stdout",
     "output_type": "stream",
     "text": [
      "32\n",
      "240\n"
     ]
    }
   ],
   "source": [
    "# Exercise 8\n",
    "\n",
    "a = 12\n",
    "b = 20\n",
    "print(a + b)\n",
    "print(a * b)"
   ]
  },
  {
   "cell_type": "code",
   "execution_count": 11,
   "metadata": {},
   "outputs": [
    {
     "name": "stdout",
     "output_type": "stream",
     "text": [
      "250 minutes = 4.166666666666667 hours.\n"
     ]
    }
   ],
   "source": [
    "# Exercise 9\n",
    "\n",
    "minutes = 250\n",
    "# divide by 60 to convert minutes to hours\n",
    "print(str(minutes) + \" minutes = \" + str(minutes/60) + \" hours.\")"
   ]
  },
  {
   "cell_type": "markdown",
   "metadata": {},
   "source": [
    "#### Exercise 10\n",
    "\n",
    "Objectives:\n",
    "- To create a Jupyter Notebook.\n",
    "- To add markdown cells and provide information about popular Data Science languages and libraries.\n",
    "- To showcase arithmetic capabilities of Jupyter Notebooks using code cells."
   ]
  },
  {
   "cell_type": "markdown",
   "metadata": {},
   "source": [
    "#### Exercise 11\n",
    "## Author\n",
    "#### Paarrthiv Gopi"
   ]
  }
 ],
 "metadata": {
  "kernelspec": {
   "display_name": "Python 3 (ipykernel)",
   "language": "python",
   "name": "python3"
  },
  "language_info": {
   "codemirror_mode": {
    "name": "ipython",
    "version": 3
   },
   "file_extension": ".py",
   "mimetype": "text/x-python",
   "name": "python",
   "nbconvert_exporter": "python",
   "pygments_lexer": "ipython3",
   "version": "3.12.8"
  }
 },
 "nbformat": 4,
 "nbformat_minor": 4
}
